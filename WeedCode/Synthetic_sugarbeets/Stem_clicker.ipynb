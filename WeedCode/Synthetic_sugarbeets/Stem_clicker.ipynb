{
 "cells": [
  {
   "cell_type": "code",
   "execution_count": 1,
   "id": "6b47df39",
   "metadata": {},
   "outputs": [],
   "source": [
    "import cv2\n",
    "import json\n",
    "import os\n",
    "import glob\n",
    "from win32api import GetSystemMetrics"
   ]
  },
  {
   "cell_type": "code",
   "execution_count": 2,
   "id": "2a07df74",
   "metadata": {},
   "outputs": [],
   "source": [
    "click_x = 0\n",
    "click_y = 0\n",
    "def mouse_callback(event, x, y, flags, params):\n",
    "    if event == 1:\n",
    "        global click_x\n",
    "        global click_y\n",
    "        click_x = x\n",
    "        click_y = y"
   ]
  },
  {
   "cell_type": "code",
   "execution_count": 3,
   "id": "e269a82d",
   "metadata": {},
   "outputs": [
    {
     "name": "stdout",
     "output_type": "stream",
     "text": [
      "How many plants in image?: 2\n",
      ".\\data\\backgrounds_cleaned\\meta\\0718.json\n",
      "How many plants in image?: 1\n"
     ]
    },
    {
     "ename": "KeyboardInterrupt",
     "evalue": "",
     "output_type": "error",
     "traceback": [
      "\u001b[1;31m---------------------------------------------------------------------------\u001b[0m",
      "\u001b[1;31mKeyboardInterrupt\u001b[0m                         Traceback (most recent call last)",
      "\u001b[1;32m<ipython-input-3-2402dc8bc65f>\u001b[0m in \u001b[0;36m<module>\u001b[1;34m\u001b[0m\n\u001b[0;32m     32\u001b[0m         \u001b[0mnumImages\u001b[0m \u001b[1;33m=\u001b[0m \u001b[0mint\u001b[0m\u001b[1;33m(\u001b[0m\u001b[0minput\u001b[0m\u001b[1;33m(\u001b[0m\u001b[1;34m\"How many plants in image?: \"\u001b[0m\u001b[1;33m)\u001b[0m\u001b[1;33m)\u001b[0m\u001b[1;33m\u001b[0m\u001b[1;33m\u001b[0m\u001b[0m\n\u001b[0;32m     33\u001b[0m         \u001b[0mcv2\u001b[0m\u001b[1;33m.\u001b[0m\u001b[0mimshow\u001b[0m\u001b[1;33m(\u001b[0m\u001b[1;34m'image'\u001b[0m\u001b[1;33m,\u001b[0m \u001b[0mimg\u001b[0m\u001b[1;33m)\u001b[0m\u001b[1;33m\u001b[0m\u001b[1;33m\u001b[0m\u001b[0m\n\u001b[1;32m---> 34\u001b[1;33m         \u001b[0mcv2\u001b[0m\u001b[1;33m.\u001b[0m\u001b[0mwaitKey\u001b[0m\u001b[1;33m(\u001b[0m\u001b[1;36m0\u001b[0m\u001b[1;33m)\u001b[0m\u001b[1;33m\u001b[0m\u001b[1;33m\u001b[0m\u001b[0m\n\u001b[0m\u001b[0;32m     35\u001b[0m \u001b[1;33m\u001b[0m\u001b[0m\n\u001b[0;32m     36\u001b[0m \u001b[1;33m\u001b[0m\u001b[0m\n",
      "\u001b[1;31mKeyboardInterrupt\u001b[0m: "
     ]
    }
   ],
   "source": [
    "#filepaths = [\".\\\\data\\\\sugarbeat_cleaned\\\\rgb\\\\0034.png\",\".\\\\data\\\\sugarbeat_cleaned\\\\rgb\\\\0035.png\"]\n",
    "StartNum = 661\n",
    "filepaths = glob.glob(\".\\\\data\\\\backgrounds_cleaned\\\\rgb\\\\*\")\n",
    "numImages = len(filepaths)\n",
    "backgrounds = False\n",
    "if \"backgrounds\" in filepaths[0]:\n",
    "    backgrounds = True\n",
    "\n",
    "continueToggle = True\n",
    "cv2.namedWindow('image', cv2.WINDOW_NORMAL)\n",
    "cv2.setMouseCallback('image', mouse_callback) #set mouse callback function for window\n",
    "for f in filepaths[StartNum:min(StartNum+100,numImages)]:\n",
    "    continueToggle = False\n",
    "    img = cv2.imread(f)\n",
    "    if backgrounds == True:\n",
    "        scale = 1300\n",
    "    else:\n",
    "        scale = 900\n",
    "        \n",
    "    scale_width = scale / img.shape[1]\n",
    "    scale_height = scale / img.shape[0]\n",
    "    scale = min(scale_width, scale_height)\n",
    "    window_width = int(img.shape[1] * scale)\n",
    "    window_height = int(img.shape[0] * scale)\n",
    "\n",
    "    \n",
    "        \n",
    "    cv2.resizeWindow('image', window_width, window_height)\n",
    "    cv2.imshow('image', img)\n",
    "    cv2.waitKey(1)\n",
    "    if backgrounds == True:\n",
    "        numImages = int(input(\"How many plants in image?: \"))\n",
    "        cv2.imshow('image', img)\n",
    "        cv2.waitKey(0)\n",
    "    \n",
    "    \n",
    "    if backgrounds == False:\n",
    "        data = {\"stem\":{\"x\":click_x,\"y\":click_y}}\n",
    "    else:\n",
    "        if numImages == 0:\n",
    "            data = {\"stem\":None}\n",
    "        elif numImages > 0:\n",
    "            click_x_array = []\n",
    "            click_y_array = []\n",
    "            for n in range(numImages):\n",
    "                click_x_array.append(click_x)\n",
    "                click_y_array.append(click_y)\n",
    "                cv2.imshow('image', img)\n",
    "                cv2.waitKey(0)\n",
    "            data = {\"stem\":{\"x\":click_x_array,\"y\":click_y_array}}\n",
    "            \n",
    "    head,tail = os.path.split(f)\n",
    "    print(head[:-3]+\"meta\\\\\"+tail[:4]+\".json\")\n",
    "    \n",
    "    out_file = open(head[:-3]+\"\\\\meta\\\\\"+tail[:4]+\".json\", \"w\")\n",
    "    json.dump(data, out_file, indent = 4)\n",
    "    out_file.close()\n",
    "    \n",
    "cv2.destroyAllWindows()"
   ]
  }
 ],
 "metadata": {
  "kernelspec": {
   "display_name": "Python myKernal",
   "language": "python",
   "name": "mask_rcnn_py3_5_2"
  },
  "language_info": {
   "codemirror_mode": {
    "name": "ipython",
    "version": 3
   },
   "file_extension": ".py",
   "mimetype": "text/x-python",
   "name": "python",
   "nbconvert_exporter": "python",
   "pygments_lexer": "ipython3",
   "version": "3.6.13"
  }
 },
 "nbformat": 4,
 "nbformat_minor": 5
}
